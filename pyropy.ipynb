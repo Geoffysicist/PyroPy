{
 "cells": [
  {
   "cell_type": "code",
   "execution_count": 1,
   "metadata": {},
   "outputs": [],
   "source": [
    "from src.pyropy import helpers as h\n",
    "from src.pyropy import firebehaviour as fb\n",
    "from src.pyropy import weather_data as wd\n",
    "from openpyxl import Workbook, load_workbook"
   ]
  },
  {
   "cell_type": "code",
   "execution_count": 2,
   "metadata": {},
   "outputs": [
    {
     "name": "stdout",
     "output_type": "stream",
     "text": [
      "            date_time  temp  humidity  wind_speed  wind_dir  drought  ffdi  \\\n",
      "0 2021-12-19 04:00:00  23.9      24.2          16        36      8.7  14.5   \n",
      "1 2021-12-19 05:00:00  23.6      24.4          13       312      8.7  13.4   \n",
      "2 2021-12-19 06:00:00  22.7      27.3          16       336      8.7  12.5   \n",
      "3 2021-12-19 07:00:00  23.0      28.2          25         2      8.7  14.6   \n",
      "4 2021-12-19 08:00:00  25.3      26.0          32         0      8.7  19.7   \n",
      "\n",
      "   gfdi  fros_dir  fros_mk5       mc        mf  fros_vesta  \n",
      "0     1       216    0.2610  6.71723  1.064110  472.876990  \n",
      "1     1       132    0.2412  6.77132  1.051428  363.114422  \n",
      "2     1       156    0.2250  7.38899  0.922787  410.074597  \n",
      "3     2       182    0.2628  7.55270  0.893045  644.728718  \n",
      "4     4       180    0.3546  7.00601  0.999211  924.316569  \n"
     ]
    }
   ],
   "source": [
    "weather_fn = 'tests/.data/weather_gridded_in.csv'\n",
    "weather_df = wd.gridded_to_df(weather_fn)\n",
    "incident = fb.Incident(weather_df)\n",
    "incident_params = {\n",
    "    #forest_mk5\n",
    "    'wrf': 3.5,\n",
    "    'fuel_load': 15,\n",
    "    #forest_vesta\n",
    "    'fhs_surf': 3.5,\n",
    "    'fhs_n_surf': 2,\n",
    "    'fuel_height_ns': 20\n",
    "}\n",
    "incident.update_params(incident_params)\n",
    "incident.run_forest_mk5()\n",
    "incident.run_forest_vesta()\n",
    "\n",
    "# fbcalc_fn = 'tests/.data/FireBehaviourCalcs_Test.xlsm'\n",
    "# wb = h.incident_to_calc(incident, fbcalc_fn)\n",
    "\n",
    "# wb.save('temp.xlsm')\n",
    "\n",
    "incident.print_head()"
   ]
  }
 ],
 "metadata": {
  "interpreter": {
   "hash": "522dfd2eac2af6086ff38d5bb5a2b92ae5401325d6ec5160eaa1c497a51608a1"
  },
  "kernelspec": {
   "display_name": "Python 3.10.0 ('firebehaviour310')",
   "language": "python",
   "name": "python3"
  },
  "language_info": {
   "codemirror_mode": {
    "name": "ipython",
    "version": 3
   },
   "file_extension": ".py",
   "mimetype": "text/x-python",
   "name": "python",
   "nbconvert_exporter": "python",
   "pygments_lexer": "ipython3",
   "version": "3.10.0"
  },
  "orig_nbformat": 4
 },
 "nbformat": 4,
 "nbformat_minor": 2
}
